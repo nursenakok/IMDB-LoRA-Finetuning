{
  "nbformat": 4,
  "nbformat_minor": 0,
  "metadata": {
    "colab": {
      "provenance": [],
      "gpuType": "T4",
      "authorship_tag": "ABX9TyPaHsFWW/TmumOPg6s2wBUK",
      "include_colab_link": true
    },
    "kernelspec": {
      "name": "python3",
      "display_name": "Python 3"
    },
    "language_info": {
      "name": "python"
    },
    "accelerator": "GPU"
  },
  "cells": [
    {
      "cell_type": "markdown",
      "metadata": {
        "id": "view-in-github",
        "colab_type": "text"
      },
      "source": [
        "<a href=\"https://colab.research.google.com/github/nursenakok/IMDB-LoRA-Finetuning/blob/main/1_IMDB_LoRA_Baseline.ipynb\" target=\"_parent\"><img src=\"https://colab.research.google.com/assets/colab-badge.svg\" alt=\"Open In Colab\"/></a>"
      ]
    },
    {
      "cell_type": "code",
      "source": [
        "# 1. Library\n",
        "\n",
        "!pip install -q transformers datasets peft accelerate # Install required libraries"
      ],
      "metadata": {
        "id": "wLUS9FnVBuNA"
      },
      "execution_count": null,
      "outputs": []
    },
    {
      "cell_type": "code",
      "source": [
        "# 2. Data\n",
        "\n",
        "from datasets import load_dataset                     # Import the Hugging Face Datasets library\n",
        "dataset = load_dataset(\"stanfordnlp/imdb\")            # Load the IMDb dataset (50k movie reviews labeled as positive/negative)"
      ],
      "metadata": {
        "id": "2BBEhMZYBuPj"
      },
      "execution_count": null,
      "outputs": []
    },
    {
      "cell_type": "code",
      "source": [
        "# 3. Tokenization\n",
        "\n",
        "from transformers import AutoTokenizer  # Import the AutoTokenizer class from Hugging Face transformers\n",
        "tokenizer = AutoTokenizer.from_pretrained(\"distilbert-base-uncased\") # Load the tokenizer for the DistilBERT model\n",
        "\n",
        "def tokenize_function(examples):\n",
        "    return tokenizer(examples[\"text\"], padding=\"max_length\", truncation=True, max_length=256) # Tokenize text and pad/truncate to max length\n",
        "\n",
        "tokenized_datasets = dataset.map(tokenize_function, batched=True) # Apply tokenizer to entire dataset\n"
      ],
      "metadata": {
        "id": "sQpQwAuRBuWK"
      },
      "execution_count": null,
      "outputs": []
    },
    {
      "cell_type": "code",
      "source": [
        "# 4. Model\n",
        "\n",
        "from transformers import AutoModelForSequenceClassification\n",
        "from peft import LoraConfig, get_peft_model\n",
        "\n",
        "model = AutoModelForSequenceClassification.from_pretrained(\"distilbert-base-uncased\", num_labels=2)  # Load DistilBERT for 2-class classification\n",
        "lora_config = LoraConfig(r=8, lora_alpha=16, target_modules=[\"q_lin\", \"v_lin\"], lora_dropout=0.3, bias=\"none\", task_type=\"SEQ_CLS\") # LoRA config\n",
        "model = get_peft_model(model, lora_config)\n",
        "model.print_trainable_parameters()"
      ],
      "metadata": {
        "id": "NL1b9igzGX7n"
      },
      "execution_count": null,
      "outputs": []
    },
    {
      "cell_type": "code",
      "source": [
        "# 5. Training Arguments\n",
        "\n",
        "import torch\n",
        "from transformers import TrainingArguments, Trainer\n",
        "\n",
        "# Check GPU memory before training\n",
        "print(\"GPU STATUS BEFORE TRAINING:\")\n",
        "print(f\"Memory allocated: {torch.cuda.memory_allocated() / 1024**3:.2f} GB\")\n",
        "print(f\"Total memory: {torch.cuda.get_device_properties(0).total_memory / 1024**3:.2f} GB\")\n",
        "\n",
        "# Set training arguments\n",
        "training_args = TrainingArguments(\n",
        "    output_dir=\"./imdb-lora-model\",    # Directory to save the trained model\n",
        "    learning_rate=2e-4,                # Learning rate\n",
        "    per_device_train_batch_size=8,     # Batch size per GPU\n",
        "    per_device_eval_batch_size=8,\n",
        "    num_train_epochs=3,                # of training epochs\n",
        "    weight_decay=0.01,                 # Regularization\n",
        "    eval_strategy=\"epoch\",             # Evaluate every epoch\n",
        "    save_strategy=\"epoch\",             # Save model every epoch\n",
        "    load_best_model_at_end=True,       # Load best model at the end\n",
        "    logging_steps=100,                 # Log every 100 steps\n",
        "    fp16=True,                         # Mixed precision for memory efficiency\n",
        "    report_to=\"none\"                   # Disable TensorBoard reporting\n",
        ")\n",
        "\n",
        "# Create Trainer\n",
        "\n",
        "trainer = Trainer(\n",
        "    model=model,\n",
        "    args=training_args,\n",
        "    train_dataset=tokenized_datasets[\"train\"],\n",
        "    eval_dataset=tokenized_datasets[\"test\"],\n",
        "    tokenizer=tokenizer\n",
        "\n",
        ")\n",
        "\n",
        "\n",
        "\n",
        "# Final GPU memory check\n",
        "print(\"GPU STATUS BEFORE STARTING TRAINING:\")\n",
        "print(f\"Memory allocated: {torch.cuda.memory_allocated() / 1024**3:.2f} GB\")"
      ],
      "metadata": {
        "id": "ZYsMhFfQHL6U"
      },
      "execution_count": null,
      "outputs": []
    },
    {
      "cell_type": "code",
      "source": [
        "# 6. Training\n",
        "\n",
        "trainer.train()\n",
        "print(\"TRAINING COMPLETED!\")  # Notify that training has finished"
      ],
      "metadata": {
        "id": "2wK_2wvjHL-T"
      },
      "execution_count": null,
      "outputs": []
    },
    {
      "cell_type": "code",
      "source": [
        "# 7. Accuracy\n",
        "\n",
        "from sklearn.metrics import accuracy_score\n",
        "import numpy as np\n",
        "\n",
        "# compute_metrics fonk\n",
        "def compute_metrics(eval_pred):\n",
        "    logits, labels = eval_pred\n",
        "    predictions = np.argmax(logits, axis=-1)\n",
        "    return {\"accuracy\": accuracy_score(labels, predictions)}\n",
        "\n",
        "\n",
        "trainer = Trainer(\n",
        "    model=model,\n",
        "    args=training_args,\n",
        "    train_dataset=tokenized_datasets[\"train\"],\n",
        "    eval_dataset=tokenized_datasets[\"test\"],\n",
        "    tokenizer=tokenizer,\n",
        "    compute_metrics=compute_metrics\n",
        ")\n",
        "\n",
        "\n",
        "test_results = trainer.evaluate(tokenized_datasets[\"test\"])\n",
        "print(f\"🎯 TEST ACCURACY: {test_results['eval_accuracy']:.4f}\")"
      ],
      "metadata": {
        "id": "_U9zbMzG1L02"
      },
      "execution_count": null,
      "outputs": []
    },
    {
      "cell_type": "code",
      "source": [
        "# 8. Save Model\n",
        "\n",
        "trainer.save_model(\"imdb-lora-model\")"
      ],
      "metadata": {
        "id": "jiU8Xkpm1q81"
      },
      "execution_count": null,
      "outputs": []
    },
    {
      "cell_type": "code",
      "source": [
        "# 9. Test & Inference\n",
        "\n",
        "from transformers import pipeline\n",
        "\n",
        "classifier = pipeline(\"text-classification\", model=\"imdb-lora-model\")\n",
        "\n",
        "# Test et\n",
        "test_texts = [\n",
        "    \"This movie was absolutely fantastic!\",\n",
        "    \"Terrible acting and boring story.\",\n",
        "    \"One of the best films I've ever seen!\",\n",
        "    \"That was amazing\",\n",
        "    \"Worst film ever made\",\n",
        "    \"Brilliant cinematography and acting\"\n",
        "\n",
        "]\n",
        "\n",
        "for text in test_texts:\n",
        "    result = classifier(text)\n",
        "    print(f\"🎬 '{text[:30]}...' → {result[0]['label']} ({(result[0]['score']*100):.1f}%)\")"
      ],
      "metadata": {
        "id": "IxWK5kCP1sHG"
      },
      "execution_count": null,
      "outputs": []
    }
  ]
}